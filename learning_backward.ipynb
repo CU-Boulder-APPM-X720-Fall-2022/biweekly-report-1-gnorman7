{
 "cells": [
  {
   "cell_type": "markdown",
   "metadata": {},
   "source": [
    "# Diving into PyTorch's Automatic Backpropagation\n",
    "\n",
    "In class, we talked quite a bit about how backpropagation theoretically works for Neural Networks (NNs). Because NNs are compositions of many layers of affine transformations and nonlinear activation functions, backpropagation uses the chain rule from calculus. We mentioned that backpropagation is as expensive as a forward model evaluation, making it an extremely powerful tool. We briefly mentioned that backpropagation is _more than just_ chainrule -- it's also the efficient data structures working behind the scenes. The purpose of this notebook is to investigate how PyTorch's automatic differentiation works.\n",
    "\n",
    "I'll be going through [PyTorch's documentation](https://pytorch.org/docs/stable/notes/autograd.html#:~:text=Autograd%20is%20reverse%20automatic%20differentiation,roots%20are%20the%20output%20tensors.), and testing things out with easy-to-follow, analytical examples."
   ]
  },
  {
   "cell_type": "markdown",
   "metadata": {},
   "source": [
    "Let's just create a tensor $x=3$ and see what we can explore. Then, let's use this to compute a few nested functions:\n",
    "\n",
    "$$y=x^2 \\implies \\frac{dy}{dx} = 2x$$\n",
    "$$z=\\sin(y) \\implies \\frac{dz}{dy} = \\cos (y), \\quad \\frac{dz}{dx}=\\frac{dz}{dy} \\cdot  \\frac{dy}{dx} = \\cos(x^2) \\cdot 2x$$\n",
    "\n",
    "We can externally verify that for this $x$ value, $y=9$, and $z=0.41211848524$, and that $\\frac{dy}{dx} = 6$, $\\frac{dz}{dy} = -0.91113026188$, $\\frac{dz}{dy}=-5.46678157131$"
   ]
  },
  {
   "cell_type": "code",
   "execution_count": 149,
   "metadata": {},
   "outputs": [
    {
     "name": "stdout",
     "output_type": "stream",
     "text": [
      "tensor(3., requires_grad=True)\n",
      "None\n",
      "tensor(9., grad_fn=<PowBackward0>)\n",
      "<PowBackward0 object at 0x000002584D2C6F40>\n",
      "tensor(0.4121, grad_fn=<SinBackward>)\n",
      "<SinBackward object at 0x000002584EE99EB0>\n"
     ]
    }
   ],
   "source": [
    "import torch\n",
    "import numpy as np\n",
    "\n",
    "x = torch.tensor(3.0,requires_grad=True)\n",
    "print(x)\n",
    "print(x.grad_fn)\n",
    "y = torch.pow(x,2)\n",
    "print(y)\n",
    "dydx = y.grad_fn\n",
    "print(dydx)\n",
    "z = torch.sin(y)\n",
    "dzdy = z.grad_fn\n",
    "print(z)\n",
    "print(dzdy)\n",
    "\n",
    "dydx_analytical = lambda x: 2.0*x\n",
    "dzdy_analytical = lambda y: torch.cos(y)\n",
    "dzdx_analytical = lambda x: dydx_analytical(x) * dzdy_analytical(x**2)"
   ]
  },
  {
   "cell_type": "code",
   "execution_count": 150,
   "metadata": {},
   "outputs": [
    {
     "name": "stdout",
     "output_type": "stream",
     "text": [
      "tensor(3., requires_grad=True)\n",
      "tensor(9., grad_fn=<PowBackward0>)\n",
      "2\n"
     ]
    }
   ],
   "source": [
    "print(dydx._saved_self)\n",
    "print(dzdy._saved_self)\n",
    "print(dydx._saved_exponent)"
   ]
  },
  {
   "cell_type": "markdown",
   "metadata": {},
   "source": [
    "We also have these weird `PowBackward0` and `CosBackward` objects. From PyTorch documentation: \n",
    "\n",
    "_When computing the forwards pass, autograd simultaneously performs the requested computations and builds up a graph representing the function that computes the gradient (the .grad_fn attribute of each torch.Tensor is an entry point into this graph). When the forwards pass is completed, we evaluate this graph in the backwards pass to compute the gradients._\n",
    "\n",
    "The previous section was the forward pass, so the graph has been built.\n",
    "\n",
    "We can also access the inputs to get $y$ (which was $x$) and to get $z$ (which was $y$). There's also a `saved_exponent`, but only for the power operation, likely because this operation is parameterized by whatever power we actually choose (in this case 2).\n",
    "\n",
    "Let's explore them more by passing some random variables."
   ]
  },
  {
   "cell_type": "code",
   "execution_count": 151,
   "metadata": {},
   "outputs": [
    {
     "name": "stdout",
     "output_type": "stream",
     "text": [
      "PyTorch backward function:\t6.0\n",
      "Analytical derivative: \t\t6.0\n",
      "PyTorch backward function:\t-0.9111302495002747\n",
      "Analytical derivative: \t\t-0.9111302495002747\n",
      "PyTorch backward function:\t3.544908046722412\n",
      "Analytical derivative: \t\t3.544908046722412\n",
      "PyTorch backward function:\t-0.5383121371269226\n",
      "Analytical derivative: \t\t-0.5383121371269226\n",
      "PyTorch backward function:\t24.0\n",
      "Analytical derivative: \t\t24.0\n",
      "PyTorch backward function:\t-3.6445209980010986\n",
      "Analytical derivative: \t\t-3.6445209980010986\n"
     ]
    }
   ],
   "source": [
    "# z.backward(retain_graph=True)\n",
    "\n",
    "pi = torch.tensor(np.pi)\n",
    "u = torch.tensor(1.0)\n",
    "v = torch.sqrt(pi)/3\n",
    "w = torch.tensor(4.0)\n",
    "rand_vars = [u,v,w]\n",
    "for rv in rand_vars:\n",
    "    print(f'PyTorch backward function:\\t{dydx(rv)}\\nAnalytical derivative: \\t\\t{dydx_analytical(x)*rv}')\n",
    "    print(f'PyTorch backward function:\\t{dzdy(rv)}\\nAnalytical derivative: \\t\\t{dzdy_analytical(x**2)*rv}')\n",
    "\n"
   ]
  },
  {
   "cell_type": "markdown",
   "metadata": {},
   "source": [
    "Through lots of trial-and-error, and some digging around on [Stack Exchange](https://stackoverflow.com/questions/43451125/pytorch-what-are-the-gradient-arguments), we've uncovered what these functions actually do. The `grad_fn` of `y` is the following:\n",
    "\n",
    "$$ g(u) = \\frac{dy}{dx} \\bigg \\vert _{x} \\cdot u = (2 \\cdot 3) \\cdot u$$\n",
    "\n",
    "and the `grad_fn` of `z` is the following:\n",
    "\n",
    "$$ h(u) = \\frac{dz}{dy} \\bigg \\vert _{y} \\cdot u = (\\cos(3^2))\\cdot u$$\n",
    "\n",
    "At first, this seems trivial, but this would be helpful for dealing with tensors (the math kind, not just the PyTorch datatype). It also makes chain rule more straight forward, as shown by this next example."
   ]
  },
  {
   "cell_type": "code",
   "execution_count": 152,
   "metadata": {},
   "outputs": [
    {
     "name": "stdout",
     "output_type": "stream",
     "text": [
      "tensor(-5.4668, grad_fn=<MulBackward0>)\n"
     ]
    }
   ],
   "source": [
    "dzdx_val = dzdy(dydx(u))\n",
    "print(dzdx_val)"
   ]
  },
  {
   "cell_type": "markdown",
   "metadata": {},
   "source": [
    "Thus, we see that this structure makes sense for building in chain rule. The tensor structure will likely be helpful for evaluating gradients with respect to each sample in an entire bash, or for doing the same process over all the nodes in a NN layer."
   ]
  },
  {
   "cell_type": "code",
   "execution_count": 153,
   "metadata": {},
   "outputs": [
    {
     "name": "stdout",
     "output_type": "stream",
     "text": [
      "tensor([[-5.4668, -2.6146],\n",
      "        [-5.4668, -2.6146],\n",
      "        [-5.4668, -2.6146],\n",
      "        [-5.4668, -2.6146],\n",
      "        [-5.4668, -2.6146]], grad_fn=<MulBackward0>)\n",
      "tensor([[True, True],\n",
      "        [True, True],\n",
      "        [True, True],\n",
      "        [True, True],\n",
      "        [True, True]])\n"
     ]
    }
   ],
   "source": [
    "xs = torch.tensor([3.0,2.0],requires_grad=True)\n",
    "y = torch.pow(xs,2)\n",
    "z = torch.sin(y)\n",
    "u = torch.tensor([[1.0]]*5)\n",
    "\n",
    "dz_of_dy = z.grad_fn(y.grad_fn(u))\n",
    "print(dz_of_dy)\n",
    "print(y.grad_fn(z.grad_fn(u)) == dz_of_dy)"
   ]
  },
  {
   "cell_type": "markdown",
   "metadata": {},
   "source": [
    "## PyTorch's Backward\n",
    "\n",
    "So we've looked into `grad_fn` a little, and alluded to the graph structure relating to composition of functions. In deep learning, the main purpose of the gradient functionality is to update the parameter to minimize a loss function. From [PyTorch Forums](https://discuss.pytorch.org/t/what-does-the-backward-function-do/9944) _`loss.backward()` computes `dloss/dx` for every parameter `x` which has `requires_grad=True` _. This means that `backward` is like our call `z.grad_fn(y.grad_fn(u))` in the previous block. We will keep exploring down this route.\n",
    "\n",
    "I'm going to create my own example of linear regression. For least squares linear regression, we have the following system:\n",
    "\n",
    "$$ \\underbrace{ \\begin{bmatrix} \n",
    "1 & x_0 \\\\\n",
    "1 & x_1 \\\\\n",
    "1 & x_2 \\\\\n",
    "\\vdots & \\vdots \\\\\n",
    "1 & x_n \\\\\n",
    "\\end{bmatrix}}_A\n",
    "\n",
    "\\underbrace{ \\begin{bmatrix} \\theta_0 \\\\ \\theta_1 \\end{bmatrix}}_\\Theta\n",
    "= \\underbrace{\\begin{bmatrix}\n",
    "y_0 \\\\\n",
    "y_1 \\\\\n",
    "y_2 \\\\\n",
    "\\vdots \\\\\n",
    "y_n \\\\ \\end{bmatrix}}_b\n",
    "$$\n",
    "\n",
    "We may, or may not have a solution for this equality problem. However, we can try and get our model to be as \"close\" as possible to the data. For least squares, we define \"close\" by the square of the $\\mathcal{L}^2$ or Euclidean norm. In this case, we can find the best model parameters by the Normal equations:\n",
    "\n",
    "$$ \\Theta_{optimal} = \\arg \\min_\\Theta  || A \\Theta - b ||^2_2 = (A^T A)^{-1} A^T b$$\n",
    "\n",
    "We will have $\\Theta_{optimal}$ as the true solution, but we will pretend we don't know it, because usually we don't have an analytical solution for the minimum."
   ]
  },
  {
   "cell_type": "code",
   "execution_count": 170,
   "metadata": {},
   "outputs": [
    {
     "ename": "NameError",
     "evalue": "name 'gcf' is not defined",
     "output_type": "error",
     "traceback": [
      "\u001b[1;31m---------------------------------------------------------------------------\u001b[0m",
      "\u001b[1;31mNameError\u001b[0m                                 Traceback (most recent call last)",
      "\u001b[1;32m<ipython-input-170-227fd759af57>\u001b[0m in \u001b[0;36m<module>\u001b[1;34m\u001b[0m\n\u001b[0;32m     23\u001b[0m     \u001b[0mplt\u001b[0m\u001b[1;33m.\u001b[0m\u001b[0mlegend\u001b[0m\u001b[1;33m(\u001b[0m\u001b[1;33m(\u001b[0m\u001b[1;34m'Data'\u001b[0m\u001b[1;33m,\u001b[0m\u001b[1;34m'Model'\u001b[0m\u001b[1;33m,\u001b[0m\u001b[1;34m'Optimal Model'\u001b[0m\u001b[1;33m)\u001b[0m\u001b[1;33m)\u001b[0m\u001b[1;33m\u001b[0m\u001b[1;33m\u001b[0m\u001b[0m\n\u001b[0;32m     24\u001b[0m \u001b[1;33m\u001b[0m\u001b[0m\n\u001b[1;32m---> 25\u001b[1;33m     \u001b[0mf\u001b[0m\u001b[1;33m=\u001b[0m\u001b[0mgcf\u001b[0m\u001b[1;33m(\u001b[0m\u001b[1;33m)\u001b[0m\u001b[1;33m\u001b[0m\u001b[1;33m\u001b[0m\u001b[0m\n\u001b[0m\u001b[0;32m     26\u001b[0m     \u001b[0mprint\u001b[0m\u001b[1;33m(\u001b[0m\u001b[0mf\u001b[0m\u001b[1;33m)\u001b[0m\u001b[1;33m\u001b[0m\u001b[1;33m\u001b[0m\u001b[0m\n",
      "\u001b[1;31mNameError\u001b[0m: name 'gcf' is not defined"
     ]
    },
    {
     "data": {
      "image/png": "[encoded data removed]",
      "text/plain": [
       "<Figure size 432x288 with 1 Axes>"
      ]
     },
     "metadata": {},
     "output_type": "display_data"
    }
   ],
   "source": [
    "import matplotlib.pyplot as plt\n",
    "\n",
    "# Generate some simple data\n",
    "x = torch.tensor(np.linspace(0,10),dtype=torch.float32)\n",
    "y = 5*torch.rand_like(x) + 2*x\n",
    "\n",
    "# Create a matrix system.\n",
    "A = torch.vstack((torch.ones_like(x),x)).T\n",
    "b = torch.reshape(y,[len(y),1])\n",
    "\n",
    "# Create a linear model and use it to calculate predictions\n",
    "Theta = torch.tensor([[0.0],[0.0]],requires_grad=True)\n",
    "y_pred = torch.matmul(A,Theta)\n",
    "\n",
    "# By solving the analytical normal equations, we find the mean-squred optimal theta\n",
    "Theta_optimal = torch.linalg.solve(torch.matmul(A.T,A),torch.matmul(A.T,b))\n",
    "y_optimal_pred = torch.matmul(A,Theta_optimal)\n",
    "\n",
    "with torch.no_grad():\n",
    "    plt.plot(x.numpy(),y.numpy())\n",
    "    plt.plot(x.numpy(),y_pred.numpy())\n",
    "    plt.plot(x.numpy(),y_optimal_pred.numpy())\n",
    "    plt.legend(('Data','Model','Optimal Model'))"
   ]
  },
  {
   "cell_type": "markdown",
   "metadata": {},
   "source": [
    "Now let's use PyTorch's optimization to find a good $\\Theta$. Here, we need to wrap `Theta` in block paranthesis because PyTorch expects an iterable. For instance, the iterable would contain different weights tensors corresponding to different layers."
   ]
  },
  {
   "cell_type": "code",
   "execution_count": 155,
   "metadata": {},
   "outputs": [
    {
     "name": "stdout",
     "output_type": "stream",
     "text": [
      "Theta.grad: None\n",
      "Current Theta: tensor([[0.],\n",
      "        [0.]], requires_grad=True)\n",
      "Optimal Theta: tensor([[3.0202],\n",
      "        [1.8987]])\n",
      "Computing Loss...\n",
      "Theta.grad: None\n",
      "Current Theta: tensor([[0.],\n",
      "        [0.]], requires_grad=True)\n",
      "Running loss backward...\n",
      "Theta.grad: tensor([[-1251.3896],\n",
      "        [-7903.8169]])\n",
      "Current Theta: tensor([[0.],\n",
      "        [0.]], requires_grad=True)\n",
      "Theta.grad: tensor([[-1251.3896],\n",
      "        [-7903.8169]])\n",
      "New Theta: tensor([[1.2514],\n",
      "        [7.9038]], requires_grad=True)\n"
     ]
    }
   ],
   "source": [
    "optimizer = torch.optim.SGD([Theta], lr=0.001)\n",
    "# This is only needed if we run cells in a weird order. At this point, the grads should be None / zero\n",
    "if Theta.grad is not None:\n",
    "    print(f'Setting Theta.grad to None...')\n",
    "    Theta.grad = None\n",
    "\n",
    "# Define our loss function as what we will want to minimize (given above)\n",
    "def loss_fcn(A,Theta,b):\n",
    "    return torch.pow(torch.norm(torch.matmul(A,Theta)-b),2)\n",
    "\n",
    "print(f'Theta.grad: {Theta.grad}')\n",
    "print(f'Current Theta: {Theta}')\n",
    "print(f'Optimal Theta: {Theta_optimal}')\n",
    "\n",
    "# Compute the loss for our current Theta\n",
    "print('Computing Loss...')\n",
    "loss = loss_fcn(A,Theta,b)\n",
    "print(f'Theta.grad: {Theta.grad}')\n",
    "print(f'Current Theta: {Theta}')\n",
    "\n",
    "# Propagate gradients\n",
    "print(f'Running loss backward...')\n",
    "loss.backward()\n",
    "print(f'Theta.grad: {Theta.grad}')\n",
    "print(f'Current Theta: {Theta}')\n",
    "\n",
    "# Update parameters\n",
    "optimizer.step()\n",
    "print(f'Theta.grad: {Theta.grad}')\n",
    "print(f'New Theta: {Theta}')"
   ]
  },
  {
   "cell_type": "markdown",
   "metadata": {},
   "source": [
    "So we see that computing the loss does not itself propagate the gradients. Instead, running `loss.backward` propagates the gradient, saved as the parameter's `grad` attribute.\n",
    "\n",
    "Then, running `optimizer.step` updates the parameter values, based on this gradient information (and also based on the optimizer itself)."
   ]
  },
  {
   "cell_type": "code",
   "execution_count": 156,
   "metadata": {},
   "outputs": [
    {
     "name": "stdout",
     "output_type": "stream",
     "text": [
      "Theta.grad: None\n",
      "Computing Loss...\n",
      "Running loss backward...\n",
      "Theta.grad: tensor([[ 2825.6580],\n",
      "        [19336.7715]])\n",
      "Running loss backward...\n",
      "Error: Trying to backward through the graph a second time\n"
     ]
    }
   ],
   "source": [
    "try:\n",
    "    del optimizer\n",
    "    # This may cause an error if optimizer is already deleted\n",
    "except:\n",
    "    print('Could not find optimizer')\n",
    "\n",
    "# This would be similar to calling optimizer.zero_grad()\n",
    "Theta.grad = None\n",
    "print(f'Theta.grad: {Theta.grad}')\n",
    "\n",
    "print('Computing Loss...')\n",
    "loss = loss_fcn(A,Theta,b)\n",
    "\n",
    "# Propagate gradients again once, without optimizer existing\n",
    "print(f'Running loss backward...')\n",
    "loss.backward()\n",
    "print(f'Theta.grad: {Theta.grad}')\n",
    "\n",
    "try:\n",
    "    # Propagate gradients again\n",
    "    print(f'Running loss backward...')\n",
    "    loss.backward()\n",
    "    print(f'Theta.grad: {Theta.grad}')\n",
    "except:\n",
    "    print('Error: Trying to backward through the graph a second time')"
   ]
  },
  {
   "cell_type": "markdown",
   "metadata": {},
   "source": [
    "We get an error when we try to run `loss.backward()`, and the error explains that the computational graph was already freed. To elaborate more, whenever we run a forward pass (`loss = loss_fcn(A,Theta,b)`), we _create_ the computational graph. Then, for the backward run, we use this computational graph to compute the gradients. There are two reasons that we want to make the computational graph to keep for later:\n",
    "1. So we know which function came before our current function. This is like knowing the order of function compositions so that we may apply chain rule.\n",
    "2. So we know what the function _values_ of the previous functions were. This is like in the previous example where $dy/dz$ is evaluated at $y$. Rather than computing $y$ by squaring $x$ again, we just have $y$ stored from the forward pass, where we already did this on our way to get $z$."
   ]
  },
  {
   "cell_type": "code",
   "execution_count": 157,
   "metadata": {},
   "outputs": [
    {
     "name": "stdout",
     "output_type": "stream",
     "text": [
      "Theta.grad: None\n",
      "Computing Loss...\n",
      "Running loss backward...\n",
      "Theta.grad: tensor([[ 2825.6580],\n",
      "        [19336.7715]])\n",
      "Running loss backward...\n",
      "Theta.grad: tensor([[ 5651.3159],\n",
      "        [38673.5430]])\n"
     ]
    }
   ],
   "source": [
    "# Zero Gradients\n",
    "Theta.grad = None\n",
    "print(f'Theta.grad: {Theta.grad}')\n",
    "\n",
    "print('Computing Loss...')\n",
    "loss = loss_fcn(A,Theta,b)\n",
    "\n",
    "# Propagate gradients again once, without optimizer existing\n",
    "print(f'Running loss backward...')\n",
    "loss.backward(retain_graph=True)\n",
    "print(f'Theta.grad: {Theta.grad}')\n",
    "\n",
    "# Propagate gradients again once, without optimizer existing\n",
    "print(f'Running loss backward...')\n",
    "loss.backward()\n",
    "print(f'Theta.grad: {Theta.grad}')"
   ]
  },
  {
   "cell_type": "markdown",
   "metadata": {},
   "source": [
    "We see that we can use the `retain_graph=True` argument to prevent the computational graph of `loss` from being freed during `loss.backward()`. We can then call `loss.backward()` again, and we see that the gradients are added. Thus means that if we have two loss components, $l(\\Theta) = l_1(\\Theta) + l_2(\\Theta)$, we could compute $dl/d\\Theta$ by either of the following:\n",
    "```\n",
    "l = l1 + l2\n",
    "l.backward()\n",
    "```\n",
    "or\n",
    "```\n",
    "l1.backward()\n",
    "l2.backward()\n",
    "```\n",
    "\n",
    "Here's another example, and a final sanity check. Let's create `loss_simple` $= \\theta_1 + \\theta_2$. Then, when we call `loss_simple.backward()`, we illustrate the idea above, and we can verify that the gradient being stored lines up with what we analytically expect. We expect for `Theta.grad` to increase by $1$ for each of its elements."
   ]
  },
  {
   "cell_type": "code",
   "execution_count": 158,
   "metadata": {},
   "outputs": [
    {
     "name": "stdout",
     "output_type": "stream",
     "text": [
      "Theta.grad: tensor([[ 5651.3159],\n",
      "        [38673.5430]])\n",
      "Theta.grad: tensor([[ 5652.3159],\n",
      "        [38674.5430]])\n",
      "dloss_simple/dTheta: tensor([[1.],\n",
      "        [1.]])\n"
     ]
    }
   ],
   "source": [
    "loss_simple = torch.sum(Theta)\n",
    "prev_grad = torch.clone(Theta.grad)\n",
    "print(f'Theta.grad: {Theta.grad}')\n",
    "\n",
    "loss_simple.backward()\n",
    "print(f'Theta.grad: {Theta.grad}')\n",
    "print(f'dloss_simple/dTheta: {Theta.grad - prev_grad}')"
   ]
  },
  {
   "cell_type": "markdown",
   "metadata": {},
   "source": [
    "#### Tada!"
   ]
  },
  {
   "cell_type": "markdown",
   "metadata": {},
   "source": [
    "## Using PyTorch's Optimizers\n",
    "\n",
    "Now, let's return to our problem of finding $$ \\Theta_{optimal} = \\arg \\min_\\Theta  || A \\Theta - b ||^2_2 = (A^T A)^{-1} A^T b$$ by using iterative optimization steps. We've seen this code before. We'll now just iterate the following steps:\n",
    "1. Compute the loss for our current $\\Theta$. Save this to look at our training error.\n",
    "2. Use `loss.backward` to compute the gradients with respect to $\\Theta$, stored as `Theta.grad`\n",
    "3. Use `optimizer.step` which uses the information from `Theta.grad` to update $\\Theta$\n",
    "4. Call `optimizer.zero_grad()` to set `Theta.grad` to zero for the next iteration.\n",
    "\n",
    "We'll also keep a history of $\\Theta$ for learning purposes, but there's not much reason to do this in practice."
   ]
  },
  {
   "cell_type": "code",
   "execution_count": 168,
   "metadata": {},
   "outputs": [
    {
     "name": "stdout",
     "output_type": "stream",
     "text": [
      "tensor([[0.0000, 0.0000],\n",
      "        [0.1251, 0.7904],\n",
      "        [0.2095, 1.3084],\n",
      "        ...,\n",
      "        [3.0201, 1.8988],\n",
      "        [3.0201, 1.8988],\n",
      "        [3.0201, 1.8988]], grad_fn=<CopySlices>)\n",
      "tensor([[3.0202],\n",
      "        [1.8987]])\n"
     ]
    }
   ],
   "source": [
    "Theta = torch.tensor([[0.0],[0.0]],requires_grad=True)\n",
    "optimizer = torch.optim.SGD([Theta], lr=0.0001)\n",
    "\n",
    "n_params = len(Theta)\n",
    "N_iterations = 10000\n",
    "Theta_history = torch.zeros((N_iterations+1,n_params))\n",
    "Theta_history[0,:] = Theta[:,0]\n",
    "losses = []\n",
    "\n",
    "for i in range(N_iterations):\n",
    "    optimizer.zero_grad()\n",
    "    loss = loss_fcn(A,Theta,b)\n",
    "    losses.append(loss.item())\n",
    "    loss.backward()\n",
    "    optimizer.step()\n",
    "    Theta_history[i+1,:] = Theta[:,0]\n",
    "\n",
    "print(Theta_history)\n",
    "print(Theta_optimal)"
   ]
  },
  {
   "cell_type": "markdown",
   "metadata": {},
   "source": [
    "Now let's look at our loss as a function of the epochs. We expect for this to decrease and become constant. Because we're using a simple linear model, there's no possibility to overfit our data, so we don't need to worry about comparing against some test error."
   ]
  },
  {
   "cell_type": "code",
   "execution_count": 169,
   "metadata": {},
   "outputs": [
    {
     "data": {
      "image/png": "[encoded data removed]",
      "text/plain": [
       "<Figure size 432x288 with 1 Axes>"
      ]
     },
     "metadata": {},
     "output_type": "display_data"
    }
   ],
   "source": [
    "plt.figure()\n",
    "plt.plot(losses)\n",
    "plt.xlabel('Training Iterations')\n",
    "plt.ylabel('Loss')\n",
    "plt.xscale('log')\n",
    "plt.yscale('log')"
   ]
  },
  {
   "cell_type": "markdown",
   "metadata": {},
   "source": [
    "Let's also visualize how $\\Theta$ changes over the iterations, or how it moves across the loss surface."
   ]
  },
  {
   "cell_type": "code",
   "execution_count": null,
   "metadata": {},
   "outputs": [],
   "source": [
    "plt.figure()"
   ]
  }
 ],
 "metadata": {
  "kernelspec": {
   "display_name": "Python 3.9.7 ('spyder-env')",
   "language": "python",
   "name": "python3"
  },
  "language_info": {
   "codemirror_mode": {
    "name": "ipython",
    "version": 3
   },
   "file_extension": ".py",
   "mimetype": "text/x-python",
   "name": "python",
   "nbconvert_exporter": "python",
   "pygments_lexer": "ipython3",
   "version": "3.9.7"
  },
  "orig_nbformat": 4,
  "vscode": {
   "interpreter": {
    "hash": "14a0abb8b133e72568b7a6e8fc97e5007cb14527d4a9bd19b762b2aa54dc2329"
   }
  }
 },
 "nbformat": 4,
 "nbformat_minor": 2
}
