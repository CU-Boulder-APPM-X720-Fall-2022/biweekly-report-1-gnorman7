{
 "cells": [
  {
   "cell_type": "markdown",
   "metadata": {},
   "source": [
    "# Getting PyTorch Package Set Up\n",
    "In this notebook, I outline some of the steps I took to get [PyTorch](https://pytorch.org/) working with VS Code both as a regular python script and as a Jupyter notebook. Getting the correct packages working is the first step in diving into Deep Learning. However, getting the packages working in *VS Code* is because *I absolutely refuse to use an editor that does not have a multiline editing capability* (not really, but multiline editing makes me feel so powerful that one time a month I can use it). In all seriousness, I see having a good editor and running environment as a crucial feature of becoming a better software engineer. It's just like learning to use `git` and [github](https://github.com) in my opinion. Plus, VS Code even integrates with this version control framework!\n",
    "\n",
    "Getting this all working was not easy, and getting things setup has always been a challenge. Anyways, first, I set up a conda environment for Python 3.9, and went through all the `conda install` commands for useful packages, such as the following:\n",
    "* pytorch\n",
    "* matplotlib\n",
    "* pandas\n",
    "* numpy\n",
    "\n",
    "There were a few difficulties with getting versions of these that were compatible with one another, but luckily conda is very straight-forward to use. I was able to test that these packages worked by the following, from inside the conda prompt:\n",
    "```\n",
    "python\n",
    "\n",
    "import torch\n",
    "torch.__version__\n",
    "```\n",
    "\n",
    "However, whenever I tried to run a python script containing these lines of code through VS Code, I got the following error:\n",
    "```\n",
    "DLL load failed while importing _multiarray_umath: The specified module could not be found.\n",
    "```\n",
    "\n",
    "Digging more into the error, sources on the internet were suggesting that this error was caused by incorrectly specifying the *PATH* for python as an environmental variable. This was done after specifying to VS Code what interpreter to use, and correctly finding my conda environment. After much trial-and-error, it turns out that the solution was to simply run the `code` command directly from the anaconda prompt, after I had activated my environment. This worked to get python files working when run from VS Code."
   ]
  },
  {
   "cell_type": "markdown",
   "metadata": {},
   "source": [
    "Now to verify that the notebook is working:"
   ]
  },
  {
   "cell_type": "code",
   "execution_count": 4,
   "metadata": {},
   "outputs": [
    {
     "name": "stdout",
     "output_type": "stream",
     "text": [
      "tensor(1.)\n"
     ]
    }
   ],
   "source": [
    "import torch\n",
    "\n",
    "a = (torch.tensor(1.0))\n",
    "print(a)"
   ]
  },
  {
   "cell_type": "markdown",
   "metadata": {},
   "source": [
    "I have an output when I run that cell through VS Code with my environment, so success! I have no idea how that will work when it's on github and someone tries to run it through Jupyter Lab."
   ]
  }
 ],
 "metadata": {
  "kernelspec": {
   "display_name": "Python 3.9.7 ('spyder-env')",
   "language": "python",
   "name": "python3"
  },
  "language_info": {
   "codemirror_mode": {
    "name": "ipython",
    "version": 3
   },
   "file_extension": ".py",
   "mimetype": "text/x-python",
   "name": "python",
   "nbconvert_exporter": "python",
   "pygments_lexer": "ipython3",
   "version": "3.9.7"
  },
  "orig_nbformat": 4,
  "vscode": {
   "interpreter": {
    "hash": "14a0abb8b133e72568b7a6e8fc97e5007cb14527d4a9bd19b762b2aa54dc2329"
   }
  }
 },
 "nbformat": 4,
 "nbformat_minor": 2
}
